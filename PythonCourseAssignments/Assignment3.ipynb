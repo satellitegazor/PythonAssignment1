{
 "cells": [
  {
   "cell_type": "code",
   "execution_count": 29,
   "metadata": {},
   "outputs": [
    {
     "name": "stdout",
     "output_type": "stream",
     "text": [
      "Divide by zero exception occured\n",
      "finally called\n"
     ]
    }
   ],
   "source": [
    "def compute():\n",
    "    try:\n",
    "        5/0\n",
    "    except ZeroDivisionError:\n",
    "        print('Divide by zero exception occured')\n",
    "    except:\n",
    "        print('Other exception occured')\n",
    "    finally:\n",
    "        print('finally called')\n",
    "\n",
    "compute()\n"
   ]
  },
  {
   "cell_type": "code",
   "execution_count": 30,
   "metadata": {},
   "outputs": [
    {
     "name": "stdout",
     "output_type": "stream",
     "text": [
      "Americans  play Baseball\n",
      "Americans  play Cricket\n",
      "Americans  watch Baseball\n",
      "Americans  watch Cricket\n",
      "Indians play Baseball\n",
      "Indians play Cricket\n",
      "Indians watch Baseball\n",
      "Indians watch Cricket\n"
     ]
    }
   ],
   "source": [
    "subjects=[\"Americans \",\"Indians\"]\n",
    "verbs=[\"play\",\"watch\"]\n",
    "objects=[\"Baseball\",\"Cricket\"]\n",
    "\n",
    "for s in range(len(subjects)):\n",
    "    for v in range(len(verbs)):\n",
    "        for o in range(len(objects)):\n",
    "            print(subjects[s] + ' ' + verbs[v] + ' ' + objects[o])"
   ]
  },
  {
   "cell_type": "code",
   "execution_count": 27,
   "metadata": {},
   "outputs": [
    {
     "name": "stdout",
     "output_type": "stream",
     "text": [
      "Increasing matrix\n",
      "[[   1    1    1    1    1    1]\n",
      " [  32   16    8    4    2    1]\n",
      " [ 243   81   27    9    3    1]\n",
      " [1024  256   64   16    4    1]\n",
      " [3125  625  125   25    5    1]]\n",
      "\n",
      "Decreasing matrix\n",
      "[[   1    1    1    1    1    1]\n",
      " [   1    2    4    8   16   32]\n",
      " [   1    3    9   27   81  243]\n",
      " [   1    4   16   64  256 1024]\n",
      " [   1    5   25  125  625 3125]]\n"
     ]
    }
   ],
   "source": [
    "import numpy as np\n",
    "\n",
    "def AlexandreTheophileVandermonde(ipvector, size, decr):\n",
    "    \n",
    "    if type(ipvector) != list:\n",
    "        print('First Parameter must be a list')\n",
    "        return;\n",
    "    if type(size) != int:\n",
    "        print('Second Parameter must be an integer')\n",
    "        return;\n",
    "    if type(decr) != bool:\n",
    "        print('Third Parameter must be a boolean')\n",
    "        return;\n",
    "    \n",
    "    vecsize = len(ipvector)\n",
    "    ipvector = np.asarray(ipvector).reshape(vecsize, 1)\n",
    "\n",
    "    ary = np.ones([ipvector.size, n], dtype = int)\n",
    "    ary = ipvector * ary;\n",
    "\n",
    "    p = 0\n",
    "    if(decr == True):\n",
    "        p = n - 1\n",
    "    for j in range(ary.shape[1]):    \n",
    "        for i in range(ary.shape[0]):\n",
    "            ary[i, j] = ary[i, j] ** p\n",
    "        if(decr == True):\n",
    "            p = p - 1\n",
    "        else:      \n",
    "            p = p + 1\n",
    "\n",
    "    print(ary)\n",
    "\n",
    "\n",
    "    \n",
    "    # ary = np.array()\n",
    "    # print(ary)\n",
    "    # for x in ipvector:\n",
    "    #    for i in range(n):\n",
    "    #        print(x**i)\n",
    "    #        print(' ')\n",
    "    # print('\\r\\n')\n",
    "\n",
    "arry = [1,2,3,4,5]\n",
    "n = 6\n",
    "print('Increasing matrix')\n",
    "AlexandreTheophileVandermonde(arry, n, True)\n",
    "print('\\nDecreasing matrix')\n",
    "AlexandreTheophileVandermonde(arry, n, False)"
   ]
  },
  {
   "cell_type": "code",
   "execution_count": null,
   "metadata": {},
   "outputs": [],
   "source": []
  },
  {
   "cell_type": "code",
   "execution_count": null,
   "metadata": {},
   "outputs": [],
   "source": []
  }
 ],
 "metadata": {
  "kernelspec": {
   "display_name": "Python 3",
   "language": "python",
   "name": "python3"
  },
  "language_info": {
   "codemirror_mode": {
    "name": "ipython",
    "version": 3
   },
   "file_extension": ".py",
   "mimetype": "text/x-python",
   "name": "python",
   "nbconvert_exporter": "python",
   "pygments_lexer": "ipython3",
   "version": "3.7.6"
  }
 },
 "nbformat": 4,
 "nbformat_minor": 4
}
