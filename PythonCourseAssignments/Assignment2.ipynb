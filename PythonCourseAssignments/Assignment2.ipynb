{
 "cells": [
  {
   "cell_type": "code",
   "execution_count": null,
   "metadata": {},
   "outputs": [],
   "source": [
    "## myreduce\n",
    "import types\n",
    "import inspect \n",
    "from functools import reduce\n",
    "\n",
    "# myreduce is similar to reduce. It accepts two parameters 1. FunctionName and InputValues Array\n",
    "# myreduce will call the input function with the given input values iteratively and returns a single result value\n",
    "def myreduce(func, inpAry):\n",
    "    \n",
    "    if type(inpAry) != list:\n",
    "        print('Second Parameter shall be a List')\n",
    "        return\n",
    "    if type(func) != types.FunctionType:\n",
    "        print('First Parameter shall be a function')\n",
    "        return\n",
    "    if len(inpAry) < 2:\n",
    "        print('List shall contain atleast 2 elements')\n",
    "        return\n",
    "    \n",
    "    ispt = inspect.getfullargspec(func)\n",
    "    # print(ispt)\n",
    "\n",
    "\t# arglen is the count of parameters in the input function to be called\n",
    "    arglen = len(ispt.args)\n",
    "\n",
    "    \n",
    "\t#inputLen is the count of values in the input list\n",
    "    inputLen = len(inpAry)\n",
    "    inpCtr = 0\n",
    "    ## retval = inpAry[0]\n",
    "\n",
    "\t#In the below while loop, construct an array of input values sufficient to call the given function.\n",
    "\t#If the input values are more than the function arguments, then the result of previous output will be first input param in the subsequent iteration.\n",
    "    while inpCtr < (inputLen - 1):\n",
    "        \n",
    "        paramCtr = 1\n",
    "        paramAry = []        \n",
    "\n",
    "        if inpCtr == 0:\n",
    "            retval = inpAry[0]\n",
    "\n",
    "\t\t## Construct parameter Array\n",
    "\t\t## The first parameter value shall be the result of previous call to the input function\n",
    "        paramAry.append(retval)\n",
    "        while paramCtr < arglen:\n",
    "            #print(inpCtr + paramCtr)\n",
    "            paramAry.append(inpAry[inpCtr + paramCtr])\n",
    "            paramCtr += 1\n",
    "            \n",
    "        #call the input function and record the result to be used as input in the next iteration\n",
    "        retval = func(*paramAry)\n",
    "        #print(retval)\n",
    "        \n",
    "\t\t#move on to the next set of input values for the next iteration\n",
    "        inpCtr += (arglen - 1)\n",
    "        #print(inpCtr)\n",
    "        \n",
    "    return retval\n",
    "\n",
    "\n",
    "# Returns the sum of three elements\n",
    "def sumTwo(a,b,c):\n",
    "    return a+b+c\n",
    "\n",
    "\n",
    "#call the myreduce with a sample input values.\n",
    "Ary = [2, 3, 4, 5, 6, 8 , 9, 10, 11]\n",
    "g = myreduce(sumTwo, Ary)\n",
    "print(\"Sum of elements in Ary: \" + str(g))\n"
   ]
  },
  {
   "cell_type": "code",
   "execution_count": null,
   "metadata": {},
   "outputs": [],
   "source": [
    "# myfilter\n",
    "import types\n",
    "import inspect\n",
    "\n",
    "ages = [5, 12, 17, 18, 24, 32]\n",
    "\n",
    "def myFunc(x):\n",
    "  if x < 18:\n",
    "    return False\n",
    "  else:\n",
    "    return True\n",
    "\n",
    "#myfilter is similar to filter function. It calls the given function and returns a list of favourable values from the input list.\n",
    "def myfilter(func, inpAry):\n",
    "\n",
    "    if type(inpAry) != list:\n",
    "        print('Second Parameter shall be a List')\n",
    "        return\n",
    "    if type(func) != types.FunctionType:\n",
    "        print('First Parameter shall be a function')\n",
    "        return\n",
    "    if len(inpAry) < 1:\n",
    "        print('List shall contain atleast 1 element')\n",
    "        return\n",
    "\n",
    "    result = []\n",
    "    for elem in inpAry:\n",
    "\t\t#call the input function with each element from the input list.\n",
    "\t\t#if the return value is true, add to the output list\n",
    "        if func(elem) == True:\n",
    "            result.append(elem)\n",
    "    return result\n",
    "\n",
    "#call the myfilter with a sample input and function.\n",
    "res = myfilter(myFunc, ages)\n",
    "print(res)\n"
   ]
  },
  {
   "cell_type": "code",
   "execution_count": 8,
   "metadata": {},
   "outputs": [
    {
     "name": "stdout",
     "output_type": "stream",
     "text": [
      "[['x', 'xx', 'xxx', 'xxxx'], ['y', 'yy', 'yyy', 'yyyy'], ['z', 'zz', 'zzz', 'zzzz']]\n",
      "['x', 'y', 'z', 'xx', 'yy', 'zz', 'xxx', 'yyy', 'zzz', 'xxxx', 'yyyy', 'zzzz']\n",
      "[[2, 3, 4], [3, 4, 5], [4, 5, 6]]\n",
      "[[2, 3, 4, 5], [3, 4, 5, 6], [4, 5, 6, 7], [5, 6, 7, 8]]\n",
      "[[1, 1], [1, 2], [1, 3], [2, 1], [2, 2], [2, 3], [3, 1], [3, 2], [3, 3]]\n"
     ]
    }
   ],
   "source": [
    "#List Comprehension\n",
    "# program that returns a list as below \n",
    "#['x', 'xx', 'xxx', 'xxxx', 'y', 'yy', 'yyy', 'yyyy', 'z', 'zz', 'zzz', 'zzzz']\n",
    "xary = []\n",
    "yary = []\n",
    "zary = []\n",
    "\n",
    "res2Ary = []\n",
    "xval = yval = zval = ''\n",
    "# inthe below loop, form an separate list for output formats of x, y and z\n",
    "# join all the lists to one list.\n",
    "for i in range(0, 4):\n",
    "    xval += 'x'\n",
    "    xary.append(xval)\n",
    "    \n",
    "    yval += 'y'\n",
    "    yary.append(yval)\n",
    "    \n",
    "    zval += 'z'\n",
    "    zary.append(zval)\n",
    "    \n",
    "    res2Ary.append(xval)\n",
    "    res2Ary.append(yval)\n",
    "    res2Ary.append(zval)\n",
    "\n",
    "resAry = [];\n",
    "resAry.append(xary)\n",
    "resAry.append(yary)\n",
    "resAry.append(zary)\n",
    "\n",
    "# output #['x', 'xx', 'xxx', 'xxxx', 'y', 'yy', 'yyy', 'yyyy', 'z', 'zz', 'zzz', 'zzzz']\n",
    "print(resAry)\n",
    "# output ['x', 'y', 'z', 'xx', 'yy', 'zz', 'xxx', 'yyy', 'zzz', 'xxxx', 'yyyy', 'zzzz']\n",
    "print(res2Ary)\n",
    "\n",
    "#res3Ary = [][]\n",
    "mary = []\n",
    "\n",
    "for m in range(0, 3):\n",
    "    nary = []\n",
    "    for n in range(2, 5):\n",
    "        nary.append(n + m)\n",
    "    mary.append(nary)\n",
    "#output [[2, 3, 4], [3, 4, 5], [4, 5, 6]]\n",
    "print(mary)\n",
    "\n",
    "pary = []\n",
    "for o in range(0, 4):\n",
    "    oary = []\n",
    "    for p in range(2, 6):\n",
    "        oary.append(o + p)\n",
    "    pary.append(oary)\n",
    "# [[2, 3, 4, 5], [3, 4, 5, 6], [4, 5, 6, 7], [5, 6, 7, 8]]\n",
    "print(pary)\n",
    "\n",
    "\n",
    "oary = []\n",
    "for k in range(1, 4):\n",
    "    for l in range (1, 4):\n",
    "        inary = []\n",
    "        inary.append(k)\n",
    "        inary.append(l)\n",
    "        oary.append(inary)\n",
    "# [[1, 1], [1, 2], [1, 3], [2, 1], [2, 2], [2, 3], [3, 1], [3, 2], [3, 3]]\n",
    "print(oary)\n"
   ]
  },
  {
   "cell_type": "code",
   "execution_count": 9,
   "metadata": {},
   "outputs": [
    {
     "name": "stdout",
     "output_type": "stream",
     "text": [
      "['Bangalore', 'Hyderabad']\n"
     ]
    }
   ],
   "source": [
    "#Longest word\n",
    "def filter_long_words(strList, length):\n",
    "\n",
    "    resList = []\n",
    "    for s in strList:\n",
    "        if len(s) > length:\n",
    "           resList.append(s)\n",
    "    return resList;\n",
    "\n",
    "\n",
    "stringlist = {'Bangalore', 'Hyderabad', 'Mumbai', 'Pune', 'Patna'}\n",
    "resultList = filter_long_words(stringlist, 6)\n",
    "print(resultList)\n"
   ]
  },
  {
   "cell_type": "code",
   "execution_count": 10,
   "metadata": {},
   "outputs": [
    {
     "name": "stdout",
     "output_type": "stream",
     "text": [
      "Enter length of side A: 4\n",
      "Enter length of side B: 5\n",
      "Enter length of side C: 6\n",
      "The area of the triangle with sides 4, 5, 6 is 9.921567416492215\n"
     ]
    }
   ],
   "source": [
    "class BaseClass:\n",
    "    \n",
    "    a = 0\n",
    "    b = 0\n",
    "    c = 0\n",
    "    def TakeInput(self):\n",
    "        self.a = int(input(\"Enter length of side A: \"))\n",
    "        self.b = int(input(\"Enter length of side B: \"))\n",
    "        self.c = int(input(\"Enter length of side C: \"))\n",
    "\n",
    "class DerivedClass(BaseClass):\n",
    "\n",
    "    def CalcTriangleArea(self):\n",
    "        s = (self.a + self.b + self.c) / 2\n",
    "        self.area = (s * (s - self.a) * (s - self.b) * (s - self.c)) ** 0.5\n",
    "\n",
    "        print(\"The area of the triangle with sides {}, {}, {} is {}\".format(self.a, self.b, self.c, self.area))\n",
    "\n",
    "d = DerivedClass()\n",
    "d.TakeInput()\n",
    "d.CalcTriangleArea()\n",
    "\n"
   ]
  },
  {
   "cell_type": "code",
   "execution_count": 12,
   "metadata": {},
   "outputs": [
    {
     "name": "stdout",
     "output_type": "stream",
     "text": [
      "['Bangalore', 'Hyderabad']\n"
     ]
    }
   ],
   "source": [
    "def filter_long_words(strList, length):\n",
    "\n",
    "    resList = []\n",
    "    for s in strList:\n",
    "        if len(s) > length:\n",
    "           resList.append(s)\n",
    "    return resList;\n",
    "\n",
    "\n",
    "stringlist = {'Bangalore', 'Hyderabad', 'Mumbai', 'Pune', 'Patna'}\n",
    "resultList = filter_long_words(stringlist, 6)\n",
    "print(resultList)\n",
    "\n"
   ]
  },
  {
   "cell_type": "code",
   "execution_count": 14,
   "metadata": {},
   "outputs": [
    {
     "name": "stdout",
     "output_type": "stream",
     "text": [
      "<class 'list'>\n",
      "[2, 3, 4]\n"
     ]
    }
   ],
   "source": [
    "def MapListOfWords(StringList):\n",
    "\n",
    "    if type(StringList) != list:\n",
    "        print('Input parameter must be a list')\n",
    "        return\n",
    "\n",
    "    resultList = []\n",
    "    for s in StringList:\n",
    "        resultList.append(len(s))\n",
    "\n",
    "    return resultList\n",
    "\n",
    "stringlist = ['ab','cde','erty']\n",
    "print(type(stringlist))\n",
    "LengthList = MapListOfWords(stringlist)\n",
    "print(LengthList)\n"
   ]
  },
  {
   "cell_type": "code",
   "execution_count": 15,
   "metadata": {},
   "outputs": [
    {
     "name": "stdout",
     "output_type": "stream",
     "text": [
      "Enter a character (to exit enter x): r\n",
      "r is not a vowel\n",
      "Enter a character (to exit enter x): e\n",
      "e is a vowel\n",
      "Enter a character (to exit enter x): x\n",
      "x is not a vowel\n"
     ]
    }
   ],
   "source": [
    "def CheckVowel():\n",
    "\n",
    "    vowelList = ['a', 'e', 'i', 'o', 'u']\n",
    "    c = 'b'\n",
    "    while c != 'x':\n",
    "\n",
    "        c = input(\"Enter a character (to exit enter x): \")\n",
    "        if len(c) > 1 or len(c) < 1:\n",
    "            print(\"Enter a single character\")\n",
    "            continue\n",
    "        \n",
    "        if c in vowelList:\n",
    "            print(c + \" is a vowel\")\n",
    "        else:\n",
    "            print(c + \" is not a vowel\")\n",
    "\n",
    "\n",
    "CheckVowel()\n",
    "\n",
    "    \n"
   ]
  },
  {
   "cell_type": "code",
   "execution_count": null,
   "metadata": {},
   "outputs": [],
   "source": []
  }
 ],
 "metadata": {
  "kernelspec": {
   "display_name": "Python 3",
   "language": "python",
   "name": "python3"
  },
  "language_info": {
   "codemirror_mode": {
    "name": "ipython",
    "version": 3
   },
   "file_extension": ".py",
   "mimetype": "text/x-python",
   "name": "python",
   "nbconvert_exporter": "python",
   "pygments_lexer": "ipython3",
   "version": "3.7.6"
  }
 },
 "nbformat": 4,
 "nbformat_minor": 4
}
