{
 "cells": [
  {
   "cell_type": "code",
   "execution_count": 2,
   "metadata": {},
   "outputs": [
    {
     "name": "stdout",
     "output_type": "stream",
     "text": [
      "Hello World\n"
     ]
    }
   ],
   "source": [
    "a = 'Hello World'\n",
    "print(a)"
   ]
  },
  {
   "cell_type": "code",
   "execution_count": 25,
   "metadata": {},
   "outputs": [
    {
     "name": "stdout",
     "output_type": "stream",
     "text": [
      "Python Assignment 1\n",
      "-------------------------------------------------------------------\n",
      "1. Program to print number from 2000 to 3200 that are divisible by 7 but not by 5\n",
      "2002, 2009, 2016, 2023, 2037, 2044, 2051, 2058, 2072, 2079, 2086, 2093, 2107, 2114, 2121, 2128, 2142, 2149, 2156, 2163, 2177, 2184, 2191, 2198, 2212, 2219, 2226, 2233, 2247, 2254, 2261, 2268, 2282, 2289, 2296, 2303, 2317, 2324, 2331, 2338, 2352, 2359, 2366, 2373, 2387, 2394, 2401, 2408, 2422, 2429, 2436, 2443, 2457, 2464, 2471, 2478, 2492, 2499, 2506, 2513, 2527, 2534, 2541, 2548, 2562, 2569, 2576, 2583, 2597, 2604, 2611, 2618, 2632, 2639, 2646, 2653, 2667, 2674, 2681, 2688, 2702, 2709, 2716, 2723, 2737, 2744, 2751, 2758, 2772, 2779, 2786, 2793, 2807, 2814, 2821, 2828, 2842, 2849, 2856, 2863, 2877, 2884, 2891, 2898, 2912, 2919, 2926, 2933, 2947, 2954, 2961, 2968, 2982, 2989, 2996, 3003, 3017, 3024, 3031, 3038, 3052, 3059, 3066, 3073, 3087, 3094, 3101, 3108, 3122, 3129, 3136, 3143, 3157, 3164, 3171, 3178, 3192, 3199, \n"
     ]
    }
   ],
   "source": [
    "import math \n",
    "\n",
    "print('Python Assignment 1')\n",
    "print('-------------------------------------------------------------------')\n",
    "print('1. Program to print number from 2000 to 3200 that are divisible by 7 but not by 5')\n",
    "s = ''\n",
    "for n1 in range(2000, 3201):\n",
    "\n",
    "\tnotdivby5 = ((n1 % 5) != 0)\n",
    "\tdivby7 = ((n1 % 7) == 0)\n",
    "\tif(divby7 and notdivby5):\n",
    "\t\ts += str(n1) + ', '\n",
    "\n",
    "print(s)"
   ]
  },
  {
   "cell_type": "code",
   "execution_count": 26,
   "metadata": {},
   "outputs": [
    {
     "name": "stdout",
     "output_type": "stream",
     "text": [
      "2. Accept FirstName and LastName, add space in between first and last name and print in reverse\n",
      "Enter First Name: Mexico\n",
      "Enter Last Name: Honduras\n",
      "sarudnoH ocixeM\n"
     ]
    }
   ],
   "source": [
    "import math \n",
    "print('2. Accept FirstName and LastName, add space in between first and last name and print in reverse')\n",
    "firstname = input('Enter First Name: ')\n",
    "lastname = input('Enter Last Name: ')\n",
    "\n",
    "fullname = firstname + ' ' + lastname\n",
    "l = len(fullname) - 1\n",
    "\n",
    "revfullname = ''\n",
    "while l >= 0:\n",
    "    revfullname += fullname[l]\n",
    "    l -= 1       \n",
    "print(revfullname)"
   ]
  },
  {
   "cell_type": "code",
   "execution_count": 27,
   "metadata": {},
   "outputs": [
    {
     "name": "stdout",
     "output_type": "stream",
     "text": [
      "3. Volume of sphere\n",
      "Enter diameter of the sphere: 10\n",
      "The volume of sphere is: 523.5987755982989\n"
     ]
    }
   ],
   "source": [
    "import math\n",
    "\n",
    "print('3. Volume of sphere')\n",
    "diameter = int(input('Enter diameter of the sphere: '))\n",
    "rad = diameter / 2\n",
    "v = (4/3) * math.pi * (rad ** 3)\n",
    "print('The volume of sphere is: ' + str(v))"
   ]
  },
  {
   "cell_type": "code",
   "execution_count": 32,
   "metadata": {},
   "outputs": [
    {
     "name": "stdout",
     "output_type": "stream",
     "text": [
      "Task 2.1: \n",
      "Enter a sequence of comma separated numbers: 43,23,56,23,67,78,23,23,5643,23\n",
      "length of intAry: 10\n",
      "43\n",
      "23\n",
      "56\n",
      "23\n",
      "67\n",
      "78\n",
      "23\n",
      "23\n",
      "5643\n",
      "23\n"
     ]
    }
   ],
   "source": [
    "import array\n",
    "print('Task 2.1: ')\n",
    "csvstrs = str(input('Enter a sequence of comma separated numbers: '))\n",
    "strAry = csvstrs.split(',')\n",
    "l = len(strAry)\n",
    "i = 0\n",
    "intAry = []\n",
    "while i < l:\n",
    "    # print(type(strAry[i]))\n",
    "    # print(strAry[i])\n",
    "    if (type(int(strAry[i])) is int):\n",
    "        intAry.append(int(strAry[i]))\n",
    "        # print(int(strAry[i]))\n",
    "    i = i + 1\n",
    "print('length of intAry: ' + str(len(intAry)))\n",
    "for k in range(len(intAry)):\n",
    "    print(intAry[k])\n",
    "\n"
   ]
  },
  {
   "cell_type": "code",
   "execution_count": 33,
   "metadata": {},
   "outputs": [
    {
     "name": "stdout",
     "output_type": "stream",
     "text": [
      "Python Assignment 2\n",
      "-------------------------------------------------------------------\n",
      "1. Create the below pattern using nested for loop in Python.\n",
      "*\n",
      "**\n",
      "***\n",
      "****\n",
      "*****\n",
      "****\n",
      "***\n",
      "**\n",
      "*\n"
     ]
    }
   ],
   "source": [
    "print('Python Assignment 2')\n",
    "print('-------------------------------------------------------------------')\n",
    "print('1. Create the below pattern using nested for loop in Python.')\n",
    "\n",
    "i = 0\n",
    "star = ''\n",
    "for i in range(0, 2):\n",
    "    if i == 0:\n",
    "        for g in range(0, 5):\n",
    "            star += '*'\n",
    "            print(star)            \n",
    "    if i == 1:\n",
    "        for s in range(4, 0, -1):\n",
    "            ##k = star[0, s]\n",
    "            ##print(k)\n",
    "            print(star[:s])\n",
    "    \n",
    "    \n"
   ]
  },
  {
   "cell_type": "code",
   "execution_count": 34,
   "metadata": {},
   "outputs": [
    {
     "name": "stdout",
     "output_type": "stream",
     "text": [
      "-------------------------------------------------------------------\n",
      "2. Write a Python program to reverse a word after accepting the input from the user.\n",
      "Enter string: AcademiC\n",
      "CimedacA\n"
     ]
    }
   ],
   "source": [
    "print('-------------------------------------------------------------------')\n",
    "print('2. Write a Python program to reverse a word after accepting the input from the user.')\n",
    "strval = input('Enter string: ')\n",
    "l = len(strval) - 1\n",
    "\n",
    "revstrval = ''\n",
    "while l >= 0:\n",
    "    revstrval += strval[l]\n",
    "    l -= 1       \n",
    "print(revstrval)"
   ]
  },
  {
   "cell_type": "code",
   "execution_count": 2,
   "metadata": {},
   "outputs": [
    {
     "name": "stdout",
     "output_type": "stream",
     "text": [
      "WE, THE PEOPLE OF INDIA,\r\n",
      "\t having solemnly resolved to constitute India into a SOVEREIGN,! \r\n",
      "SOCIALIST, SECULAR, DEMOCRATIC REPUBLIC \r\n",
      "\t and to secure to all its citizens\n"
     ]
    }
   ],
   "source": [
    "str = \"WE, THE PEOPLE OF INDIA,\\r\\n\\t having solemnly resolved to constitute India into a SOVEREIGN,! \\r\\nSOCIALIST, SECULAR, DEMOCRATIC REPUBLIC \\r\\n\\t and to secure to all its citizens\"\n",
    "print(str)"
   ]
  },
  {
   "cell_type": "code",
   "execution_count": null,
   "metadata": {},
   "outputs": [],
   "source": []
  }
 ],
 "metadata": {
  "kernelspec": {
   "display_name": "Python 3",
   "language": "python",
   "name": "python3"
  },
  "language_info": {
   "codemirror_mode": {
    "name": "ipython",
    "version": 3
   },
   "file_extension": ".py",
   "mimetype": "text/x-python",
   "name": "python",
   "nbconvert_exporter": "python",
   "pygments_lexer": "ipython3",
   "version": "3.7.6"
  }
 },
 "nbformat": 4,
 "nbformat_minor": 4
}
